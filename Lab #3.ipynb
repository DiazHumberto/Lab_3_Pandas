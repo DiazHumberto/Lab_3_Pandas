{
 "cells": [
  {
   "cell_type": "markdown",
   "id": "bcef5d14-b373-412b-9917-a312383ba0e9",
   "metadata": {},
   "source": [
    "# <center> Lab Exercise 3: Getting started with Pandas </center>\n",
    "<center>\n",
    "Humberto Díaz <br>\n",
    "The University of Winnipeg <br>\n",
    "DIT 54102 AIW01: Foundations of Data Science <br>\n",
    "Muhammad Shahin PhD. <br>\n",
    "March 30, 2025 \n",
    "</center>"
   ]
  },
  {
   "cell_type": "markdown",
   "id": "27501c83-20d6-4fd6-9e5c-379162624f81",
   "metadata": {},
   "source": [
    "\n",
    "Reading, selecting, filtering,manipulating, sorting, grouping, rearranging, ranking, plotting data."
   ]
  },
  {
   "cell_type": "markdown",
   "id": "6492e6a9-ef0b-4522-9260-70b15a64ddc7",
   "metadata": {},
   "source": [
    "## Learning Objectives\n",
    "Learn how to use Pandas for data science applications - read, select, filter, manipulate, sort, group, rearrange, rank and plot data."
   ]
  },
  {
   "cell_type": "markdown",
   "id": "5a712230-4d46-413f-b1e4-c2addcfbae03",
   "metadata": {},
   "source": [
    "#### Question 1: re-create the DataFrame above using the from_dict method."
   ]
  },
  {
   "cell_type": "markdown",
   "id": "fb6158d8-0f9e-4f17-8371-67fc9bec0d85",
   "metadata": {},
   "source": [
    "#### Question 2: read any other file from your hard drive with format other than csv into q_2 DataFrame. "
   ]
  },
  {
   "cell_type": "markdown",
   "id": "6152dbca-af68-4d95-8a64-bc9f822bae06",
   "metadata": {},
   "source": [
    "#### Question 3: Calculate the average and standard deviation values of column ‘Value’ in edu DataFrame. "
   ]
  },
  {
   "cell_type": "markdown",
   "id": "f1fb11b2-bbbf-4b23-9c37-560ad615dc13",
   "metadata": {},
   "source": [
    "#### Question 4: Calculate the ceil of the scalar sqrt(Value) in the previous example "
   ]
  },
  {
   "cell_type": "markdown",
   "id": "da3a76fc-c7be-4d15-b860-7b3d536ef1b0",
   "metadata": {},
   "source": [
    "#### Question 5: Calculate the mean of the values for each country per year"
   ]
  }
 ],
 "metadata": {
  "kernelspec": {
   "display_name": "Python 3 (ipykernel)",
   "language": "python",
   "name": "python3"
  },
  "language_info": {
   "codemirror_mode": {
    "name": "ipython",
    "version": 3
   },
   "file_extension": ".py",
   "mimetype": "text/x-python",
   "name": "python",
   "nbconvert_exporter": "python",
   "pygments_lexer": "ipython3",
   "version": "3.11.5"
  }
 },
 "nbformat": 4,
 "nbformat_minor": 5
}
